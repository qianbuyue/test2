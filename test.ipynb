{
 "cells": [
  {
   "cell_type": "code",
   "execution_count": null,
   "metadata": {
    "collapsed": true
   },
   "outputs": [],
   "source": [
    "x = {  'a':37,'b':42,\n",
    "\n",
    "'c':927}\n",
    "\n",
    "y = 'hello ''world'\n",
    "z = 'hello '+'world'\n",
    "a = 'hello {}'.format('world')\n",
    "class foo  (     object  ):\n",
    "  def f    (self   ):\n",
    "    return       37*-2\n",
    "  def g(self, x,y=42):\n",
    "      return y\n",
    "def f  (   a ) :\n",
    "  return      37-a[42-x :  y**3]"
   ]
  }
 ],
 "metadata": {
  "kernelspec": {
   "display_name": "Python 2",
   "language": "python",
   "name": "python2"
  },
  "language_info": {
   "codemirror_mode": {
    "name": "ipython",
    "version": 2
   },
   "file_extension": ".py",
   "mimetype": "text/x-python",
   "name": "python",
   "nbconvert_exporter": "python",
   "pygments_lexer": "ipython2",
   "version": "2.7.6"
  }
 },
 "nbformat": 4,
 "nbformat_minor": 1
}
